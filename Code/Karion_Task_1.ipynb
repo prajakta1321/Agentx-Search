{
  "nbformat": 4,
  "nbformat_minor": 0,
  "metadata": {
    "colab": {
      "provenance": []
    },
    "kernelspec": {
      "name": "python3",
      "display_name": "Python 3"
    },
    "language_info": {
      "name": "python"
    }
  },
  "cells": [
    {
      "cell_type": "markdown",
      "source": [
        "## Internship Assignment: LangChain + Tavily Agent Notebook\n",
        "- Implemented web search agent using Tavily API ✅\n",
        "- Implemented LLM-based answer generation agent using LangChain ✅\n",
        "- Encountered OpenAI quota error (429), so results are commented or marked"
      ],
      "metadata": {
        "id": "HSXo9-t0qExF"
      }
    },
    {
      "cell_type": "code",
      "execution_count": null,
      "metadata": {
        "colab": {
          "base_uri": "https://localhost:8080/"
        },
        "id": "m0PL7kxCbACy",
        "outputId": "37036100-66bb-4433-b45f-2e49bcf641f4"
      },
      "outputs": [
        {
          "output_type": "stream",
          "name": "stdout",
          "text": [
            "Requirement already satisfied: langchain in /usr/local/lib/python3.11/dist-packages (0.3.23)\n",
            "Collecting langgraph\n",
            "  Downloading langgraph-0.3.33-py3-none-any.whl.metadata (7.9 kB)\n",
            "Requirement already satisfied: openai in /usr/local/lib/python3.11/dist-packages (1.75.0)\n",
            "Collecting tavily-python\n",
            "  Downloading tavily_python-0.6.0-py3-none-any.whl.metadata (92 kB)\n",
            "\u001b[2K     \u001b[90m━━━━━━━━━━━━━━━━━━━━━━━━━━━━━━━━━━━━━━━━\u001b[0m \u001b[32m92.6/92.6 kB\u001b[0m \u001b[31m2.3 MB/s\u001b[0m eta \u001b[36m0:00:00\u001b[0m\n",
            "\u001b[?25hRequirement already satisfied: langchain-core<1.0.0,>=0.3.51 in /usr/local/lib/python3.11/dist-packages (from langchain) (0.3.52)\n",
            "Requirement already satisfied: langchain-text-splitters<1.0.0,>=0.3.8 in /usr/local/lib/python3.11/dist-packages (from langchain) (0.3.8)\n",
            "Requirement already satisfied: langsmith<0.4,>=0.1.17 in /usr/local/lib/python3.11/dist-packages (from langchain) (0.3.31)\n",
            "Requirement already satisfied: pydantic<3.0.0,>=2.7.4 in /usr/local/lib/python3.11/dist-packages (from langchain) (2.11.3)\n",
            "Requirement already satisfied: SQLAlchemy<3,>=1.4 in /usr/local/lib/python3.11/dist-packages (from langchain) (2.0.40)\n",
            "Requirement already satisfied: requests<3,>=2 in /usr/local/lib/python3.11/dist-packages (from langchain) (2.32.3)\n",
            "Requirement already satisfied: PyYAML>=5.3 in /usr/local/lib/python3.11/dist-packages (from langchain) (6.0.2)\n",
            "Collecting langgraph-checkpoint<3.0.0,>=2.0.10 (from langgraph)\n",
            "  Downloading langgraph_checkpoint-2.0.24-py3-none-any.whl.metadata (4.6 kB)\n",
            "Collecting langgraph-prebuilt<0.2,>=0.1.8 (from langgraph)\n",
            "  Downloading langgraph_prebuilt-0.1.8-py3-none-any.whl.metadata (5.0 kB)\n",
            "Collecting langgraph-sdk<0.2.0,>=0.1.42 (from langgraph)\n",
            "  Downloading langgraph_sdk-0.1.63-py3-none-any.whl.metadata (1.8 kB)\n",
            "Collecting xxhash<4.0.0,>=3.5.0 (from langgraph)\n",
            "  Downloading xxhash-3.5.0-cp311-cp311-manylinux_2_17_x86_64.manylinux2014_x86_64.whl.metadata (12 kB)\n",
            "Requirement already satisfied: anyio<5,>=3.5.0 in /usr/local/lib/python3.11/dist-packages (from openai) (4.9.0)\n",
            "Requirement already satisfied: distro<2,>=1.7.0 in /usr/local/lib/python3.11/dist-packages (from openai) (1.9.0)\n",
            "Requirement already satisfied: httpx<1,>=0.23.0 in /usr/local/lib/python3.11/dist-packages (from openai) (0.28.1)\n",
            "Requirement already satisfied: jiter<1,>=0.4.0 in /usr/local/lib/python3.11/dist-packages (from openai) (0.9.0)\n",
            "Requirement already satisfied: sniffio in /usr/local/lib/python3.11/dist-packages (from openai) (1.3.1)\n",
            "Requirement already satisfied: tqdm>4 in /usr/local/lib/python3.11/dist-packages (from openai) (4.67.1)\n",
            "Requirement already satisfied: typing-extensions<5,>=4.11 in /usr/local/lib/python3.11/dist-packages (from openai) (4.13.2)\n",
            "Collecting tiktoken>=0.5.1 (from tavily-python)\n",
            "  Downloading tiktoken-0.9.0-cp311-cp311-manylinux_2_17_x86_64.manylinux2014_x86_64.whl.metadata (6.7 kB)\n",
            "Requirement already satisfied: idna>=2.8 in /usr/local/lib/python3.11/dist-packages (from anyio<5,>=3.5.0->openai) (3.10)\n",
            "Requirement already satisfied: certifi in /usr/local/lib/python3.11/dist-packages (from httpx<1,>=0.23.0->openai) (2025.1.31)\n",
            "Requirement already satisfied: httpcore==1.* in /usr/local/lib/python3.11/dist-packages (from httpx<1,>=0.23.0->openai) (1.0.8)\n",
            "Requirement already satisfied: h11<0.15,>=0.13 in /usr/local/lib/python3.11/dist-packages (from httpcore==1.*->httpx<1,>=0.23.0->openai) (0.14.0)\n",
            "Requirement already satisfied: tenacity!=8.4.0,<10.0.0,>=8.1.0 in /usr/local/lib/python3.11/dist-packages (from langchain-core<1.0.0,>=0.3.51->langchain) (9.1.2)\n",
            "Requirement already satisfied: jsonpatch<2.0,>=1.33 in /usr/local/lib/python3.11/dist-packages (from langchain-core<1.0.0,>=0.3.51->langchain) (1.33)\n",
            "Requirement already satisfied: packaging<25,>=23.2 in /usr/local/lib/python3.11/dist-packages (from langchain-core<1.0.0,>=0.3.51->langchain) (24.2)\n",
            "Collecting ormsgpack<2.0.0,>=1.8.0 (from langgraph-checkpoint<3.0.0,>=2.0.10->langgraph)\n",
            "  Downloading ormsgpack-1.9.1-cp311-cp311-manylinux_2_17_x86_64.manylinux2014_x86_64.whl.metadata (43 kB)\n",
            "\u001b[2K     \u001b[90m━━━━━━━━━━━━━━━━━━━━━━━━━━━━━━━━━━━━━━━━\u001b[0m \u001b[32m43.5/43.5 kB\u001b[0m \u001b[31m2.6 MB/s\u001b[0m eta \u001b[36m0:00:00\u001b[0m\n",
            "\u001b[?25hRequirement already satisfied: orjson>=3.10.1 in /usr/local/lib/python3.11/dist-packages (from langgraph-sdk<0.2.0,>=0.1.42->langgraph) (3.10.16)\n",
            "Requirement already satisfied: requests-toolbelt<2.0.0,>=1.0.0 in /usr/local/lib/python3.11/dist-packages (from langsmith<0.4,>=0.1.17->langchain) (1.0.0)\n",
            "Requirement already satisfied: zstandard<0.24.0,>=0.23.0 in /usr/local/lib/python3.11/dist-packages (from langsmith<0.4,>=0.1.17->langchain) (0.23.0)\n",
            "Requirement already satisfied: annotated-types>=0.6.0 in /usr/local/lib/python3.11/dist-packages (from pydantic<3.0.0,>=2.7.4->langchain) (0.7.0)\n",
            "Requirement already satisfied: pydantic-core==2.33.1 in /usr/local/lib/python3.11/dist-packages (from pydantic<3.0.0,>=2.7.4->langchain) (2.33.1)\n",
            "Requirement already satisfied: typing-inspection>=0.4.0 in /usr/local/lib/python3.11/dist-packages (from pydantic<3.0.0,>=2.7.4->langchain) (0.4.0)\n",
            "Requirement already satisfied: charset-normalizer<4,>=2 in /usr/local/lib/python3.11/dist-packages (from requests<3,>=2->langchain) (3.4.1)\n",
            "Requirement already satisfied: urllib3<3,>=1.21.1 in /usr/local/lib/python3.11/dist-packages (from requests<3,>=2->langchain) (2.3.0)\n",
            "Requirement already satisfied: greenlet>=1 in /usr/local/lib/python3.11/dist-packages (from SQLAlchemy<3,>=1.4->langchain) (3.2.0)\n",
            "Requirement already satisfied: regex>=2022.1.18 in /usr/local/lib/python3.11/dist-packages (from tiktoken>=0.5.1->tavily-python) (2024.11.6)\n",
            "Requirement already satisfied: jsonpointer>=1.9 in /usr/local/lib/python3.11/dist-packages (from jsonpatch<2.0,>=1.33->langchain-core<1.0.0,>=0.3.51->langchain) (3.0.0)\n",
            "Downloading langgraph-0.3.33-py3-none-any.whl (147 kB)\n",
            "\u001b[2K   \u001b[90m━━━━━━━━━━━━━━━━━━━━━━━━━━━━━━━━━━━━━━━━\u001b[0m \u001b[32m147.9/147.9 kB\u001b[0m \u001b[31m6.3 MB/s\u001b[0m eta \u001b[36m0:00:00\u001b[0m\n",
            "\u001b[?25hDownloading tavily_python-0.6.0-py3-none-any.whl (45 kB)\n",
            "\u001b[2K   \u001b[90m━━━━━━━━━━━━━━━━━━━━━━━━━━━━━━━━━━━━━━━━\u001b[0m \u001b[32m45.7/45.7 kB\u001b[0m \u001b[31m3.0 MB/s\u001b[0m eta \u001b[36m0:00:00\u001b[0m\n",
            "\u001b[?25hDownloading langgraph_checkpoint-2.0.24-py3-none-any.whl (42 kB)\n",
            "\u001b[2K   \u001b[90m━━━━━━━━━━━━━━━━━━━━━━━━━━━━━━━━━━━━━━━━\u001b[0m \u001b[32m42.0/42.0 kB\u001b[0m \u001b[31m2.6 MB/s\u001b[0m eta \u001b[36m0:00:00\u001b[0m\n",
            "\u001b[?25hDownloading langgraph_prebuilt-0.1.8-py3-none-any.whl (25 kB)\n",
            "Downloading langgraph_sdk-0.1.63-py3-none-any.whl (47 kB)\n",
            "\u001b[2K   \u001b[90m━━━━━━━━━━━━━━━━━━━━━━━━━━━━━━━━━━━━━━━━\u001b[0m \u001b[32m47.3/47.3 kB\u001b[0m \u001b[31m2.9 MB/s\u001b[0m eta \u001b[36m0:00:00\u001b[0m\n",
            "\u001b[?25hDownloading tiktoken-0.9.0-cp311-cp311-manylinux_2_17_x86_64.manylinux2014_x86_64.whl (1.2 MB)\n",
            "\u001b[2K   \u001b[90m━━━━━━━━━━━━━━━━━━━━━━━━━━━━━━━━━━━━━━━━\u001b[0m \u001b[32m1.2/1.2 MB\u001b[0m \u001b[31m27.3 MB/s\u001b[0m eta \u001b[36m0:00:00\u001b[0m\n",
            "\u001b[?25hDownloading xxhash-3.5.0-cp311-cp311-manylinux_2_17_x86_64.manylinux2014_x86_64.whl (194 kB)\n",
            "\u001b[2K   \u001b[90m━━━━━━━━━━━━━━━━━━━━━━━━━━━━━━━━━━━━━━━━\u001b[0m \u001b[32m194.8/194.8 kB\u001b[0m \u001b[31m13.2 MB/s\u001b[0m eta \u001b[36m0:00:00\u001b[0m\n",
            "\u001b[?25hDownloading ormsgpack-1.9.1-cp311-cp311-manylinux_2_17_x86_64.manylinux2014_x86_64.whl (223 kB)\n",
            "\u001b[2K   \u001b[90m━━━━━━━━━━━━━━━━━━━━━━━━━━━━━━━━━━━━━━━━\u001b[0m \u001b[32m223.6/223.6 kB\u001b[0m \u001b[31m15.7 MB/s\u001b[0m eta \u001b[36m0:00:00\u001b[0m\n",
            "\u001b[?25hInstalling collected packages: xxhash, ormsgpack, tiktoken, tavily-python, langgraph-sdk, langgraph-checkpoint, langgraph-prebuilt, langgraph\n",
            "Successfully installed langgraph-0.3.33 langgraph-checkpoint-2.0.24 langgraph-prebuilt-0.1.8 langgraph-sdk-0.1.63 ormsgpack-1.9.1 tavily-python-0.6.0 tiktoken-0.9.0 xxhash-3.5.0\n"
          ]
        }
      ],
      "source": [
        "# Installing essential LangChain, LangGraph & Tavily libraries\n",
        "!pip install langchain langgraph openai tavily-python"
      ]
    },
    {
      "cell_type": "markdown",
      "source": [
        "# 2. Now to access the LLM and web search from tavily we use API keys\n",
        "\n",
        "(*Tavily is a web search tool designed for AI agents.\n",
        "It acts like Google, but optimized for research tasks.*)"
      ],
      "metadata": {
        "id": "gwl9Tqn6dbbp"
      }
    },
    {
      "cell_type": "code",
      "source": [
        "import os\n",
        "os.environ['TAVILY_API_KEY'] = \"YOUR API KEY HERE FROM THE GIVEN API SITE LINK\""
      ],
      "metadata": {
        "id": "hSL9aRtydli7"
      },
      "execution_count": null,
      "outputs": []
    },
    {
      "cell_type": "markdown",
      "source": [
        "# 3. We build a small function that returns a query"
      ],
      "metadata": {
        "id": "tqtL4Io-eJjC"
      }
    },
    {
      "cell_type": "code",
      "source": [
        "from tavily import TavilyClient\n",
        "\n",
        "# Use the key from environment variable\n",
        "tavily = TavilyClient(api_key=os.environ['TAVILY_API_KEY'])\n",
        "\n",
        "def research_with_tavily(query):\n",
        "    results = tavily.search(\n",
        "        query=query,\n",
        "        search_depth=\"advanced\",   # means how deep the answers will be\n",
        "        include_answer=True,\n",
        "        include_raw_content=False,\n",
        "        max_results=5     # will show the top 5 posts related to the topic\n",
        "    )\n",
        "    return results['results']"
      ],
      "metadata": {
        "id": "nyD_dZjaeR5L"
      },
      "execution_count": null,
      "outputs": []
    },
    {
      "cell_type": "markdown",
      "source": [
        "# 4. Test the function"
      ],
      "metadata": {
        "id": "UsUii4DVeZyb"
      }
    },
    {
      "cell_type": "code",
      "source": [
        "query = \"2025 myanmar earthquake and its impact on India\"\n",
        "results = research_with_tavily(query)\n",
        "\n",
        "for i, item in enumerate(results):\n",
        "    print(f\"\\nResult {i+1}:\")\n",
        "    print(\"Title:\", item['title'])\n",
        "    print(\"URL:\", item['url'])\n",
        "    print(\"Snippet:\", item['content'])"
      ],
      "metadata": {
        "colab": {
          "base_uri": "https://localhost:8080/"
        },
        "id": "YTDCDM4WedQV",
        "outputId": "15b7d852-bc81-4850-946b-0bc2e5c5f223"
      },
      "execution_count": null,
      "outputs": [
        {
          "output_type": "stream",
          "name": "stdout",
          "text": [
            "\n",
            "Result 1:\n",
            "Title: Myanmar earthquake: India's National Centre for Seismology says ...\n",
            "URL: https://www.thehindu.com/news/international/myanmar-earthquake-indias-national-centre-for-seismology-says-soil-liquefaction-caused-severe-damage/article69388979.ece\n",
            "Snippet: India's earthquake monitoring agency, the National Centre for Seismology (NCS), has said the earthquake that hit Myanmar and Thailand on Friday (March 28, 2025) afternoon caused severe damage because its shaking matched the natural vibration of buildings.\n",
            "\n",
            "Soil liquefaction was also a major cause of the damage, said O.P. Mishra, head of the NCS.\n",
            "\n",
            "Soil liquefaction happens during a strong earthquake, when the ground starts acting like a liquid instead of solid land. [...] Rescuers resume operations at the Chatuchak site of a skyscraper collapse on March 29, 2025 in Bangkok, Thailand. In the aftermath of the 7.3 magnitude earthquake that struck Myanmar, Bangkok finds itself in an unprecedented state of paralysis on March 28, 2025.\n",
            "                                          | Photo Credit: Getty Images [...] It said the region has experienced major earthquakes in the past, including a magnitude-7.5 earthquake in 1912 and a magnitude-7.2 earthquake in 1956.\n",
            "\n",
            "Media reports said the earthquake killed at least three people in Bangkok and buried dozens when a high-rise building under construction collapsed.\n",
            "\n",
            "Myanmar's military-run government has declared a state of emergency in six regions and states, including capital Nay Pyi Taw and Mandalay, the reports said.\n",
            "\n",
            "Published - March 29, 2025 07:42 am IST\n",
            "\n",
            "Result 2:\n",
            "Title: 2025 Myanmar Earthquake: Initial Report - Miyamoto International\n",
            "URL: https://miyamotointernational.com/2025-myanmar-earthquake-a-comprehensive-report/\n",
            "Snippet: Economic Times. (2025, March 28). Myanmar, Bangkok Earthquake: The science behind the 7.7 magnitude tremor & its devastating impact. https://economictimes.indiatimes.com/news/science/myanmar-bangkok-earthquake-the-science-behind-the-7-7-magnitude-tremor-its-devastating-impact/articleshow/119652125.cms [...] The Ava Bridge in Mandalay, which collapsed into the Irrawaddy River (India Today, 2025).\n",
            "Several buildings in Mandalay and Naypyidaw, including hospitals and emergency facilities, were severely damaged or collapsed (BBC, 2025).\n",
            "Roads in Naypyidaw buckled, further complicating rescue and relief efforts (GDACS, 2025). [...] India Today. (2025, March 28). Myanmar earthquake: Why this region is vulnerable to deadly seismic events. https://www.indiatoday.in/science/story/myanmar-earthquake-thailand-why-this-region-is-vulnerable-deadly-seismic-events-explained-2700493-2025-03-28\n",
            "Earthquake List. (2025, March 28). On Friday Afternoon a DESTRUCTIVE M7.7 Earthquake struck near Mandalay in Myanmar. https://earthquakelist.org/news/2025/03/28/m7-7-earthquake-myanmar-1078688/\n",
            "\n",
            "Result 3:\n",
            "Title: M 7.7 - 2025 Sagaing, Burma (Myanmar) Earthquake\n",
            "URL: https://earthquake.usgs.gov/earthquakes/eventpage/us7000pn9s/executive\n",
            "Snippet: The March 28, 2025, M7.7 earthquake near Mandalay, Burma (Myanmar), occurred as the result of strike slip faulting between the India and Eurasia plates. Focal mechanism solutions indicate that slip occurred on either a north-striking, steeply-dipping, right-lateral fault, or a west striking, steeply-dipping, left-lateral fault. The finite fault solution indicates a north striking right-lateral fault. This focal mechanism and finite fault solution are consistent with the earthquake potentially [...] occurring on the right-lateral Sagaing Fault that lies in the fault zone that defines the plate boundary between the Indian and Sunda plates.\n",
            "\n",
            "Result 4:\n",
            "Title: 2025 Myanmar earthquake - Wikipedia\n",
            "URL: https://en.wikipedia.org/wiki/2025_Myanmar_earthquake\n",
            "Snippet: ^ Ray, Kalyan (29 March 2025). \"India intensifies relief efforts under 'Operation Brahma' as Myanmar reels from earthquake\". Deccan Herald.\n",
            "^ \"Live Updates: Death Toll Exceeds 3,000; Indian Army field hospital begins operations; 70 Aftershocks Within a Week and more\". The Irrawaddy. 3 April 2025. Retrieved 3 April 2025.\n",
            "^ Santoso, Anton; Marison, Walda; Sulistiyandari, Resinta (31 March 2025). \"Indonesia sends 12 tons of aid to Myanmar earthquake victims\". Antara. Retrieved 1 April 2025. [...] ^ \"Earthquake hits Kolkata and Imphal after 7.7 magnitude tremors strike Bangkok\". India TV News. 28 March 2025. Retrieved 29 March 2025.\n",
            "^ Das, Arunava; Weiwei, Xu (28 March 2025). \"Myanmar tremors felt in India\". China Daily. Retrieved 17 April 2025.\n",
            "^ \"Earthquake felt in Sundarban, Canning, Basirhat area also\". Bartaman Patrika. 28 March 2025. Retrieved 29 March 2025.\n",
            "^ \"ভূমিকম্পে কেঁপে উঠল বসিরহাটের বিভিন্ন এলাকা, ঘর ছেড়ে রাস্তায় বাসিন্দারা\". আজকাল. 28 March 2025. Retrieved 29 March 2025. [...] On 28 March 2025 at 12:50:54 MMT (06:20:54 UTC), a Mw 7.7–7.9 earthquake struck the Sagaing Region of Myanmar, with an epicenter close to Mandalay, the country's second-largest city. The strike-slip shock achieved a maximum Modified Mercalli intensity of X (Extreme). It was the most powerful earthquake to strike Myanmar since 1912,[1] and the second deadliest in Myanmar's modern history, surpassed only by upper estimates of the 1930 Bago earthquake.[2] The earthquake caused extensive damage in\n",
            "\n",
            "Result 5:\n",
            "Title: 2025 Myanmar and Thailand Earthquake - Disaster Philanthropy\n",
            "URL: https://disasterphilanthropy.org/disasters/2025-myanmar-and-thailand-earthquake/\n",
            "Snippet: In January, the World Food Program (WFP) announced that in 2025, 15 million people will face hunger in Myanmar, up from 13.3 million last year. This includes one in four children who suffer from stunting due to lack of nutrition and 7% of children who suffer from wasting.\n",
            "The earthquake occurred on the fault between the India and Eurasia plates and was felt more than 1,200 miles from the epicenter. [...] Other countries impacted by the earthquake include India, Laos, China, Bangladesh and Thailand. In Bangkok, a high-rise building under construction collapsed, trapping several dozen workers. A state of emergency was declared in Bangkok, and schools were closed across the country.\n",
            "Key facts [...] A powerful 7.7-magnitude earthquake struck central Myanmar (Burma), near Sagaing, on March 28, 2025 (12:50 local time). Several strong earthquakes – as high as 6.4 magnitude  – followed. This was the strongest earthquake in Myanmar since the Maymyo earthquake of 1912.\n"
          ]
        }
      ]
    },
    {
      "cell_type": "markdown",
      "source": [
        "# 5. Agent 1: Research Agent\n",
        "\n",
        "*Now in this step we will search the agent.*"
      ],
      "metadata": {
        "id": "YaQPZ5mjiSwg"
      }
    },
    {
      "cell_type": "code",
      "source": [
        "# Step 2: Using Tavily to fetch real-time web data\n",
        "from tavily import TavilyClient\n",
        "\n",
        "tavily_api_key = \"YOUR API KEY \"\n",
        "client = TavilyClient(api_key=tavily_api_key)\n",
        "\n",
        "query = \"2025 myanmar earthquake and its impact on India\"\n",
        "\n",
        "search_results = client.search(query=query, search_depth=\"advanced\")\n",
        "\n",
        "for result in search_results[\"results\"]:\n",
        "    print(f\"Title: {result['title']}\")\n",
        "    print(f\"URL: {result['url']}\")\n",
        "    print(\"-\" * 80)"
      ],
      "metadata": {
        "colab": {
          "base_uri": "https://localhost:8080/"
        },
        "id": "IRQ_-5l6iZPe",
        "outputId": "ee300e01-25af-4853-fede-c1f4850f96d7"
      },
      "execution_count": null,
      "outputs": [
        {
          "output_type": "stream",
          "name": "stdout",
          "text": [
            "Title: 2025 Myanmar Earthquake: Initial Report - Miyamoto International\n",
            "URL: https://miyamotointernational.com/2025-myanmar-earthquake-a-comprehensive-report/\n",
            "--------------------------------------------------------------------------------\n",
            "Title: 2025 Myanmar earthquake - Wikipedia\n",
            "URL: https://en.wikipedia.org/wiki/2025_Myanmar_earthquake\n",
            "--------------------------------------------------------------------------------\n",
            "Title: Myanmar earthquake 2025: latest news and updates - Red Cross\n",
            "URL: https://www.redcross.org.uk/stories/disasters-and-emergencies/world/myanmar-earthquake-2025\n",
            "--------------------------------------------------------------------------------\n",
            "Title: 2025 Myanmar and Thailand Earthquake - Disaster Philanthropy\n",
            "URL: https://disasterphilanthropy.org/disasters/2025-myanmar-and-thailand-earthquake/\n",
            "--------------------------------------------------------------------------------\n",
            "Title: Myanmar earthquake was so powerful satellites saw the ground ...\n",
            "URL: https://www.indiatoday.in/science/story/myanmar-earthquake-was-so-powerful-satellites-saw-the-ground-moving-2712135-2025-04-21\n",
            "--------------------------------------------------------------------------------\n"
          ]
        }
      ]
    },
    {
      "cell_type": "markdown",
      "source": [
        "# 6. Now, we will take the search results from Tavily and generate a clean, summarized answer using a Large Language Model (LLM)\n"
      ],
      "metadata": {
        "id": "6e-6_q-nlJRB"
      }
    },
    {
      "cell_type": "markdown",
      "source": [
        "# Agent 2 : Answer Drafting Agent"
      ],
      "metadata": {
        "id": "ObzlQSkolXN3"
      }
    },
    {
      "cell_type": "code",
      "source": [
        "!pip install langchain openai   # installing libraries"
      ],
      "metadata": {
        "colab": {
          "base_uri": "https://localhost:8080/"
        },
        "id": "zGZLpinolbzX",
        "outputId": "17d7368e-e79f-4ab1-f6b3-c7a66f6b1d2f"
      },
      "execution_count": null,
      "outputs": [
        {
          "output_type": "stream",
          "name": "stdout",
          "text": [
            "Requirement already satisfied: langchain in /usr/local/lib/python3.11/dist-packages (0.3.23)\n",
            "Requirement already satisfied: openai in /usr/local/lib/python3.11/dist-packages (1.75.0)\n",
            "Requirement already satisfied: langchain-core<1.0.0,>=0.3.51 in /usr/local/lib/python3.11/dist-packages (from langchain) (0.3.52)\n",
            "Requirement already satisfied: langchain-text-splitters<1.0.0,>=0.3.8 in /usr/local/lib/python3.11/dist-packages (from langchain) (0.3.8)\n",
            "Requirement already satisfied: langsmith<0.4,>=0.1.17 in /usr/local/lib/python3.11/dist-packages (from langchain) (0.3.31)\n",
            "Requirement already satisfied: pydantic<3.0.0,>=2.7.4 in /usr/local/lib/python3.11/dist-packages (from langchain) (2.11.3)\n",
            "Requirement already satisfied: SQLAlchemy<3,>=1.4 in /usr/local/lib/python3.11/dist-packages (from langchain) (2.0.40)\n",
            "Requirement already satisfied: requests<3,>=2 in /usr/local/lib/python3.11/dist-packages (from langchain) (2.32.3)\n",
            "Requirement already satisfied: PyYAML>=5.3 in /usr/local/lib/python3.11/dist-packages (from langchain) (6.0.2)\n",
            "Requirement already satisfied: anyio<5,>=3.5.0 in /usr/local/lib/python3.11/dist-packages (from openai) (4.9.0)\n",
            "Requirement already satisfied: distro<2,>=1.7.0 in /usr/local/lib/python3.11/dist-packages (from openai) (1.9.0)\n",
            "Requirement already satisfied: httpx<1,>=0.23.0 in /usr/local/lib/python3.11/dist-packages (from openai) (0.28.1)\n",
            "Requirement already satisfied: jiter<1,>=0.4.0 in /usr/local/lib/python3.11/dist-packages (from openai) (0.9.0)\n",
            "Requirement already satisfied: sniffio in /usr/local/lib/python3.11/dist-packages (from openai) (1.3.1)\n",
            "Requirement already satisfied: tqdm>4 in /usr/local/lib/python3.11/dist-packages (from openai) (4.67.1)\n",
            "Requirement already satisfied: typing-extensions<5,>=4.11 in /usr/local/lib/python3.11/dist-packages (from openai) (4.13.2)\n",
            "Requirement already satisfied: idna>=2.8 in /usr/local/lib/python3.11/dist-packages (from anyio<5,>=3.5.0->openai) (3.10)\n",
            "Requirement already satisfied: certifi in /usr/local/lib/python3.11/dist-packages (from httpx<1,>=0.23.0->openai) (2025.1.31)\n",
            "Requirement already satisfied: httpcore==1.* in /usr/local/lib/python3.11/dist-packages (from httpx<1,>=0.23.0->openai) (1.0.8)\n",
            "Requirement already satisfied: h11<0.15,>=0.13 in /usr/local/lib/python3.11/dist-packages (from httpcore==1.*->httpx<1,>=0.23.0->openai) (0.14.0)\n",
            "Requirement already satisfied: tenacity!=8.4.0,<10.0.0,>=8.1.0 in /usr/local/lib/python3.11/dist-packages (from langchain-core<1.0.0,>=0.3.51->langchain) (9.1.2)\n",
            "Requirement already satisfied: jsonpatch<2.0,>=1.33 in /usr/local/lib/python3.11/dist-packages (from langchain-core<1.0.0,>=0.3.51->langchain) (1.33)\n",
            "Requirement already satisfied: packaging<25,>=23.2 in /usr/local/lib/python3.11/dist-packages (from langchain-core<1.0.0,>=0.3.51->langchain) (24.2)\n",
            "Requirement already satisfied: orjson<4.0.0,>=3.9.14 in /usr/local/lib/python3.11/dist-packages (from langsmith<0.4,>=0.1.17->langchain) (3.10.16)\n",
            "Requirement already satisfied: requests-toolbelt<2.0.0,>=1.0.0 in /usr/local/lib/python3.11/dist-packages (from langsmith<0.4,>=0.1.17->langchain) (1.0.0)\n",
            "Requirement already satisfied: zstandard<0.24.0,>=0.23.0 in /usr/local/lib/python3.11/dist-packages (from langsmith<0.4,>=0.1.17->langchain) (0.23.0)\n",
            "Requirement already satisfied: annotated-types>=0.6.0 in /usr/local/lib/python3.11/dist-packages (from pydantic<3.0.0,>=2.7.4->langchain) (0.7.0)\n",
            "Requirement already satisfied: pydantic-core==2.33.1 in /usr/local/lib/python3.11/dist-packages (from pydantic<3.0.0,>=2.7.4->langchain) (2.33.1)\n",
            "Requirement already satisfied: typing-inspection>=0.4.0 in /usr/local/lib/python3.11/dist-packages (from pydantic<3.0.0,>=2.7.4->langchain) (0.4.0)\n",
            "Requirement already satisfied: charset-normalizer<4,>=2 in /usr/local/lib/python3.11/dist-packages (from requests<3,>=2->langchain) (3.4.1)\n",
            "Requirement already satisfied: urllib3<3,>=1.21.1 in /usr/local/lib/python3.11/dist-packages (from requests<3,>=2->langchain) (2.3.0)\n",
            "Requirement already satisfied: greenlet>=1 in /usr/local/lib/python3.11/dist-packages (from SQLAlchemy<3,>=1.4->langchain) (3.2.0)\n",
            "Requirement already satisfied: jsonpointer>=1.9 in /usr/local/lib/python3.11/dist-packages (from jsonpatch<2.0,>=1.33->langchain-core<1.0.0,>=0.3.51->langchain) (3.0.0)\n"
          ]
        }
      ]
    },
    {
      "cell_type": "code",
      "source": [
        "import os    # initalizinf the API key to the object\n",
        "os.environ[\"OPENAI_API_KEY\"] = \"YOUR GENERATED A OPEN AI API KEY FROM LINK\""
      ],
      "metadata": {
        "id": "DhCs9_XWlhfF"
      },
      "execution_count": null,
      "outputs": []
    },
    {
      "cell_type": "code",
      "source": [
        "!pip install langchain-community  # Installing the langchain-community package to access chat models"
      ],
      "metadata": {
        "colab": {
          "base_uri": "https://localhost:8080/"
        },
        "id": "dGb1I-kxmSMh",
        "outputId": "5aec21ad-4568-4445-f954-c977585621bf"
      },
      "execution_count": null,
      "outputs": [
        {
          "output_type": "stream",
          "name": "stdout",
          "text": [
            "Collecting langchain-community\n",
            "  Downloading langchain_community-0.3.22-py3-none-any.whl.metadata (2.4 kB)\n",
            "Collecting langchain-core<1.0.0,>=0.3.55 (from langchain-community)\n",
            "  Downloading langchain_core-0.3.55-py3-none-any.whl.metadata (5.9 kB)\n",
            "Collecting langchain<1.0.0,>=0.3.24 (from langchain-community)\n",
            "  Downloading langchain-0.3.24-py3-none-any.whl.metadata (7.8 kB)\n",
            "Requirement already satisfied: SQLAlchemy<3,>=1.4 in /usr/local/lib/python3.11/dist-packages (from langchain-community) (2.0.40)\n",
            "Requirement already satisfied: requests<3,>=2 in /usr/local/lib/python3.11/dist-packages (from langchain-community) (2.32.3)\n",
            "Requirement already satisfied: PyYAML>=5.3 in /usr/local/lib/python3.11/dist-packages (from langchain-community) (6.0.2)\n",
            "Requirement already satisfied: aiohttp<4.0.0,>=3.8.3 in /usr/local/lib/python3.11/dist-packages (from langchain-community) (3.11.15)\n",
            "Requirement already satisfied: tenacity!=8.4.0,<10,>=8.1.0 in /usr/local/lib/python3.11/dist-packages (from langchain-community) (9.1.2)\n",
            "Collecting dataclasses-json<0.7,>=0.5.7 (from langchain-community)\n",
            "  Downloading dataclasses_json-0.6.7-py3-none-any.whl.metadata (25 kB)\n",
            "Collecting pydantic-settings<3.0.0,>=2.4.0 (from langchain-community)\n",
            "  Downloading pydantic_settings-2.9.1-py3-none-any.whl.metadata (3.8 kB)\n",
            "Requirement already satisfied: langsmith<0.4,>=0.1.125 in /usr/local/lib/python3.11/dist-packages (from langchain-community) (0.3.31)\n",
            "Collecting httpx-sse<1.0.0,>=0.4.0 (from langchain-community)\n",
            "  Downloading httpx_sse-0.4.0-py3-none-any.whl.metadata (9.0 kB)\n",
            "Requirement already satisfied: numpy>=1.26.2 in /usr/local/lib/python3.11/dist-packages (from langchain-community) (2.0.2)\n",
            "Requirement already satisfied: aiohappyeyeballs>=2.3.0 in /usr/local/lib/python3.11/dist-packages (from aiohttp<4.0.0,>=3.8.3->langchain-community) (2.6.1)\n",
            "Requirement already satisfied: aiosignal>=1.1.2 in /usr/local/lib/python3.11/dist-packages (from aiohttp<4.0.0,>=3.8.3->langchain-community) (1.3.2)\n",
            "Requirement already satisfied: attrs>=17.3.0 in /usr/local/lib/python3.11/dist-packages (from aiohttp<4.0.0,>=3.8.3->langchain-community) (25.3.0)\n",
            "Requirement already satisfied: frozenlist>=1.1.1 in /usr/local/lib/python3.11/dist-packages (from aiohttp<4.0.0,>=3.8.3->langchain-community) (1.5.0)\n",
            "Requirement already satisfied: multidict<7.0,>=4.5 in /usr/local/lib/python3.11/dist-packages (from aiohttp<4.0.0,>=3.8.3->langchain-community) (6.4.3)\n",
            "Requirement already satisfied: propcache>=0.2.0 in /usr/local/lib/python3.11/dist-packages (from aiohttp<4.0.0,>=3.8.3->langchain-community) (0.3.1)\n",
            "Requirement already satisfied: yarl<2.0,>=1.17.0 in /usr/local/lib/python3.11/dist-packages (from aiohttp<4.0.0,>=3.8.3->langchain-community) (1.19.0)\n",
            "Collecting marshmallow<4.0.0,>=3.18.0 (from dataclasses-json<0.7,>=0.5.7->langchain-community)\n",
            "  Downloading marshmallow-3.26.1-py3-none-any.whl.metadata (7.3 kB)\n",
            "Collecting typing-inspect<1,>=0.4.0 (from dataclasses-json<0.7,>=0.5.7->langchain-community)\n",
            "  Downloading typing_inspect-0.9.0-py3-none-any.whl.metadata (1.5 kB)\n",
            "Requirement already satisfied: langchain-text-splitters<1.0.0,>=0.3.8 in /usr/local/lib/python3.11/dist-packages (from langchain<1.0.0,>=0.3.24->langchain-community) (0.3.8)\n",
            "Requirement already satisfied: pydantic<3.0.0,>=2.7.4 in /usr/local/lib/python3.11/dist-packages (from langchain<1.0.0,>=0.3.24->langchain-community) (2.11.3)\n",
            "Requirement already satisfied: jsonpatch<2.0,>=1.33 in /usr/local/lib/python3.11/dist-packages (from langchain-core<1.0.0,>=0.3.55->langchain-community) (1.33)\n",
            "Requirement already satisfied: packaging<25,>=23.2 in /usr/local/lib/python3.11/dist-packages (from langchain-core<1.0.0,>=0.3.55->langchain-community) (24.2)\n",
            "Requirement already satisfied: typing-extensions>=4.7 in /usr/local/lib/python3.11/dist-packages (from langchain-core<1.0.0,>=0.3.55->langchain-community) (4.13.2)\n",
            "Requirement already satisfied: httpx<1,>=0.23.0 in /usr/local/lib/python3.11/dist-packages (from langsmith<0.4,>=0.1.125->langchain-community) (0.28.1)\n",
            "Requirement already satisfied: orjson<4.0.0,>=3.9.14 in /usr/local/lib/python3.11/dist-packages (from langsmith<0.4,>=0.1.125->langchain-community) (3.10.16)\n",
            "Requirement already satisfied: requests-toolbelt<2.0.0,>=1.0.0 in /usr/local/lib/python3.11/dist-packages (from langsmith<0.4,>=0.1.125->langchain-community) (1.0.0)\n",
            "Requirement already satisfied: zstandard<0.24.0,>=0.23.0 in /usr/local/lib/python3.11/dist-packages (from langsmith<0.4,>=0.1.125->langchain-community) (0.23.0)\n",
            "Collecting python-dotenv>=0.21.0 (from pydantic-settings<3.0.0,>=2.4.0->langchain-community)\n",
            "  Downloading python_dotenv-1.1.0-py3-none-any.whl.metadata (24 kB)\n",
            "Requirement already satisfied: typing-inspection>=0.4.0 in /usr/local/lib/python3.11/dist-packages (from pydantic-settings<3.0.0,>=2.4.0->langchain-community) (0.4.0)\n",
            "Requirement already satisfied: charset-normalizer<4,>=2 in /usr/local/lib/python3.11/dist-packages (from requests<3,>=2->langchain-community) (3.4.1)\n",
            "Requirement already satisfied: idna<4,>=2.5 in /usr/local/lib/python3.11/dist-packages (from requests<3,>=2->langchain-community) (3.10)\n",
            "Requirement already satisfied: urllib3<3,>=1.21.1 in /usr/local/lib/python3.11/dist-packages (from requests<3,>=2->langchain-community) (2.3.0)\n",
            "Requirement already satisfied: certifi>=2017.4.17 in /usr/local/lib/python3.11/dist-packages (from requests<3,>=2->langchain-community) (2025.1.31)\n",
            "Requirement already satisfied: greenlet>=1 in /usr/local/lib/python3.11/dist-packages (from SQLAlchemy<3,>=1.4->langchain-community) (3.2.0)\n",
            "Requirement already satisfied: anyio in /usr/local/lib/python3.11/dist-packages (from httpx<1,>=0.23.0->langsmith<0.4,>=0.1.125->langchain-community) (4.9.0)\n",
            "Requirement already satisfied: httpcore==1.* in /usr/local/lib/python3.11/dist-packages (from httpx<1,>=0.23.0->langsmith<0.4,>=0.1.125->langchain-community) (1.0.8)\n",
            "Requirement already satisfied: h11<0.15,>=0.13 in /usr/local/lib/python3.11/dist-packages (from httpcore==1.*->httpx<1,>=0.23.0->langsmith<0.4,>=0.1.125->langchain-community) (0.14.0)\n",
            "Requirement already satisfied: jsonpointer>=1.9 in /usr/local/lib/python3.11/dist-packages (from jsonpatch<2.0,>=1.33->langchain-core<1.0.0,>=0.3.55->langchain-community) (3.0.0)\n",
            "Requirement already satisfied: annotated-types>=0.6.0 in /usr/local/lib/python3.11/dist-packages (from pydantic<3.0.0,>=2.7.4->langchain<1.0.0,>=0.3.24->langchain-community) (0.7.0)\n",
            "Requirement already satisfied: pydantic-core==2.33.1 in /usr/local/lib/python3.11/dist-packages (from pydantic<3.0.0,>=2.7.4->langchain<1.0.0,>=0.3.24->langchain-community) (2.33.1)\n",
            "Collecting mypy-extensions>=0.3.0 (from typing-inspect<1,>=0.4.0->dataclasses-json<0.7,>=0.5.7->langchain-community)\n",
            "  Downloading mypy_extensions-1.1.0-py3-none-any.whl.metadata (1.1 kB)\n",
            "Requirement already satisfied: sniffio>=1.1 in /usr/local/lib/python3.11/dist-packages (from anyio->httpx<1,>=0.23.0->langsmith<0.4,>=0.1.125->langchain-community) (1.3.1)\n",
            "Downloading langchain_community-0.3.22-py3-none-any.whl (2.5 MB)\n",
            "\u001b[2K   \u001b[90m━━━━━━━━━━━━━━━━━━━━━━━━━━━━━━━━━━━━━━━━\u001b[0m \u001b[32m2.5/2.5 MB\u001b[0m \u001b[31m27.0 MB/s\u001b[0m eta \u001b[36m0:00:00\u001b[0m\n",
            "\u001b[?25hDownloading dataclasses_json-0.6.7-py3-none-any.whl (28 kB)\n",
            "Downloading httpx_sse-0.4.0-py3-none-any.whl (7.8 kB)\n",
            "Downloading langchain-0.3.24-py3-none-any.whl (1.0 MB)\n",
            "\u001b[2K   \u001b[90m━━━━━━━━━━━━━━━━━━━━━━━━━━━━━━━━━━━━━━━━\u001b[0m \u001b[32m1.0/1.0 MB\u001b[0m \u001b[31m41.2 MB/s\u001b[0m eta \u001b[36m0:00:00\u001b[0m\n",
            "\u001b[?25hDownloading langchain_core-0.3.55-py3-none-any.whl (434 kB)\n",
            "\u001b[2K   \u001b[90m━━━━━━━━━━━━━━━━━━━━━━━━━━━━━━━━━━━━━━━━\u001b[0m \u001b[32m434.1/434.1 kB\u001b[0m \u001b[31m25.8 MB/s\u001b[0m eta \u001b[36m0:00:00\u001b[0m\n",
            "\u001b[?25hDownloading pydantic_settings-2.9.1-py3-none-any.whl (44 kB)\n",
            "\u001b[2K   \u001b[90m━━━━━━━━━━━━━━━━━━━━━━━━━━━━━━━━━━━━━━━━\u001b[0m \u001b[32m44.4/44.4 kB\u001b[0m \u001b[31m3.2 MB/s\u001b[0m eta \u001b[36m0:00:00\u001b[0m\n",
            "\u001b[?25hDownloading marshmallow-3.26.1-py3-none-any.whl (50 kB)\n",
            "\u001b[2K   \u001b[90m━━━━━━━━━━━━━━━━━━━━━━━━━━━━━━━━━━━━━━━━\u001b[0m \u001b[32m50.9/50.9 kB\u001b[0m \u001b[31m3.6 MB/s\u001b[0m eta \u001b[36m0:00:00\u001b[0m\n",
            "\u001b[?25hDownloading python_dotenv-1.1.0-py3-none-any.whl (20 kB)\n",
            "Downloading typing_inspect-0.9.0-py3-none-any.whl (8.8 kB)\n",
            "Downloading mypy_extensions-1.1.0-py3-none-any.whl (5.0 kB)\n",
            "Installing collected packages: python-dotenv, mypy-extensions, marshmallow, httpx-sse, typing-inspect, pydantic-settings, dataclasses-json, langchain-core, langchain, langchain-community\n",
            "  Attempting uninstall: langchain-core\n",
            "    Found existing installation: langchain-core 0.3.52\n",
            "    Uninstalling langchain-core-0.3.52:\n",
            "      Successfully uninstalled langchain-core-0.3.52\n",
            "  Attempting uninstall: langchain\n",
            "    Found existing installation: langchain 0.3.23\n",
            "    Uninstalling langchain-0.3.23:\n",
            "      Successfully uninstalled langchain-0.3.23\n",
            "Successfully installed dataclasses-json-0.6.7 httpx-sse-0.4.0 langchain-0.3.24 langchain-community-0.3.22 langchain-core-0.3.55 marshmallow-3.26.1 mypy-extensions-1.1.0 pydantic-settings-2.9.1 python-dotenv-1.1.0 typing-inspect-0.9.0\n"
          ]
        }
      ]
    },
    {
      "cell_type": "code",
      "source": [
        "from langchain.chat_models import ChatOpenAI\n",
        "from langchain.prompts import ChatPromptTemplate\n",
        "\n",
        "# Initialize the LLM\n",
        "llm = ChatOpenAI(temperature=0.3, model=\"gpt-3.5-turbo\")  # or gpt-4 if available\n",
        "\n",
        "# Combine Tavily content snippets into one document\n",
        "def combine_snippets(results):\n",
        "    return \"\\n\\n\".join([r['content'] for r in results if 'content' in r and r['content']])\n",
        "\n",
        "# Create a prompt template\n",
        "prompt_template = ChatPromptTemplate.from_template(\n",
        "    \"\"\"\n",
        "    You are a helpful AI researcher. Based on the web data below, generate a clear and insightful summary.\n",
        "\n",
        "    WEB DATA:\n",
        "    {web_data}\n",
        "\n",
        "    SUMMARY:\n",
        "    \"\"\"\n",
        ")\n",
        "\n",
        "# Run the LLM to get an answer\n",
        "def generate_summary(web_data):\n",
        "    prompt = prompt_template.format_messages(web_data=web_data)\n",
        "    response = llm(prompt)\n",
        "    return response.content"
      ],
      "metadata": {
        "id": "QluIBe1ymG-8"
      },
      "execution_count": null,
      "outputs": []
    },
    {
      "cell_type": "markdown",
      "source": [
        "# 7. running all of the agents"
      ],
      "metadata": {
        "id": "rUgEygq0mgW9"
      }
    },
    {
      "cell_type": "code",
      "source": [
        "# Using the search results from earlier\n",
        "web_data = combine_snippets(search_results[\"results\"])\n",
        "summary = generate_summary(web_data)\n",
        "\n",
        "print(\"The Final Summary is as follows :\")\n",
        "print(summary)"
      ],
      "metadata": {
        "id": "mxaapqY2mkxw"
      },
      "execution_count": null,
      "outputs": []
    },
    {
      "cell_type": "markdown",
      "source": [
        "## *OpenAI quota exceeded while running generate_summary(), but the setup and logic is correct.*"
      ],
      "metadata": {
        "id": "BX_efHAPp-aJ"
      }
    }
  ]
}